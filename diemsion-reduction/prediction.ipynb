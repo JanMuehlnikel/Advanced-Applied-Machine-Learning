{
 "cells": [
  {
   "cell_type": "code",
   "execution_count": 1,
   "metadata": {},
   "outputs": [],
   "source": [
    "from sklearn.linear_model import LogisticRegression\n",
    "from sklearn.metrics import accuracy_score\n",
    "from sklearn.decomposition import PCA\n",
    "\n",
    "import numpy as np"
   ]
  },
  {
   "cell_type": "code",
   "execution_count": 2,
   "metadata": {},
   "outputs": [
    {
     "name": "stdout",
     "output_type": "stream",
     "text": [
      "Train Data Shape: (267, 138672) samples\n",
      "Test Data Shape: (173, 138672) samples\n"
     ]
    }
   ],
   "source": [
    "def load_data(file_path, reshape=True):\n",
    "    with open(file_path, 'r') as file:\n",
    "        data = file.readlines()\n",
    "\n",
    "    processed_data = [\n",
    "        np.array([\n",
    "            list(map(float, row.strip().split())) for row in sample.strip()[1:-1].split(';')\n",
    "        ]) for sample in data\n",
    "    ]\n",
    "\n",
    "    if reshape:\n",
    "        processed_data = np.array([matrix.flatten() for matrix in processed_data])\n",
    "\n",
    "    return processed_data\n",
    "\n",
    "def load_labels(file_path):\n",
    "    with open(file_path, 'r') as file:\n",
    "        labels = file.readlines()\n",
    "\n",
    "    labels = np.array([int(val) for line in labels for val in line.strip()[1:-1].split() if val.isdigit()])\n",
    "    return labels\n",
    "\n",
    "# Beispielaufruf der Funktionen mit Reshape\n",
    "train_data_file = 'pems+sf/PEMS_train'\n",
    "test_data_file = 'pems+sf/PEMS_test'\n",
    "train_labels_file = 'pems+sf/PEMS_trainlabels'\n",
    "test_labels_file = 'pems+sf/PEMS_testlabels'\n",
    "\n",
    "train_data = load_data(train_data_file)\n",
    "test_data = load_data(test_data_file)\n",
    "train_labels = load_labels(train_labels_file)\n",
    "test_labels = load_labels(test_labels_file)\n",
    "\n",
    "print(f\"Train Data Shape: {train_data.shape} samples\")\n",
    "print(f\"Test Data Shape: {test_data.shape} samples\")"
   ]
  },
  {
   "cell_type": "code",
   "execution_count": 3,
   "metadata": {},
   "outputs": [
    {
     "name": "stdout",
     "output_type": "stream",
     "text": [
      "Train Data Shape after PCA: (267, 10)\n",
      "Test Data Shape after PCA: (173, 10)\n",
      "Explained variance ratio: [0.17262425 0.1493978  0.08044775 0.06843066 0.05305088 0.01986957\n",
      " 0.01500646 0.01230996 0.01191902 0.01049317]\n"
     ]
    }
   ],
   "source": [
    "# Anzahl der gewünschten Hauptkomponenten (zum Beispiel 10)\n",
    "n_components = 10\n",
    "\n",
    "# PCA anwenden auf Trainingsdaten\n",
    "pca = PCA(n_components=n_components)\n",
    "train_data_pca = pca.fit_transform(train_data)\n",
    "\n",
    "# PCA auf Testdaten anwenden (mit denselben PCA-Transformationen wie auf den Trainingsdaten)\n",
    "test_data_pca = pca.transform(test_data)\n",
    "\n",
    "# Dimensionen der transformierten Daten überprüfen\n",
    "print(f\"Train Data Shape after PCA: {train_data_pca.shape}\")\n",
    "print(f\"Test Data Shape after PCA: {test_data_pca.shape}\")\n",
    "\n",
    "# Explained Variance Ratio\n",
    "print(f\"Explained variance ratio: {pca.explained_variance_ratio_}\")"
   ]
  },
  {
   "cell_type": "code",
   "execution_count": 4,
   "metadata": {},
   "outputs": [
    {
     "name": "stdout",
     "output_type": "stream",
     "text": [
      "Accuracy of Logistic Regression model: 72.25%\n"
     ]
    }
   ],
   "source": [
    "# Trainieren des Klassifikationsmodells (logistische Regression)\n",
    "logreg = LogisticRegression(max_iter=1000)\n",
    "logreg.fit(train_data_pca, train_labels)\n",
    "\n",
    "# Vorhersagen für die Testdaten\n",
    "predictions = logreg.predict(test_data_pca)\n",
    "\n",
    "# Berechnen der Genauigkeit des Modells\n",
    "accuracy = accuracy_score(test_labels, predictions)\n",
    "print(f\"Accuracy of Logistic Regression model: {accuracy * 100:.2f}%\")"
   ]
  }
 ],
 "metadata": {
  "kernelspec": {
   "display_name": "Python 3",
   "language": "python",
   "name": "python3"
  },
  "language_info": {
   "codemirror_mode": {
    "name": "ipython",
    "version": 3
   },
   "file_extension": ".py",
   "mimetype": "text/x-python",
   "name": "python",
   "nbconvert_exporter": "python",
   "pygments_lexer": "ipython3",
   "version": "3.11.4"
  }
 },
 "nbformat": 4,
 "nbformat_minor": 2
}
