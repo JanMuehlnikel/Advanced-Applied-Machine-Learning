{
 "cells": [
  {
   "cell_type": "markdown",
   "metadata": {},
   "source": [
    "# Matrikel-Nr: 2235021"
   ]
  },
  {
   "cell_type": "markdown",
   "metadata": {},
   "source": [
    "# **Dimesion Recuction On The Perms SF Data Set With PCA And Weekday Prediction** "
   ]
  },
  {
   "cell_type": "markdown",
   "metadata": {},
   "source": [
    "## **Imports**"
   ]
  },
  {
   "cell_type": "code",
   "execution_count": 40,
   "metadata": {},
   "outputs": [],
   "source": [
    "from sklearn.linear_model import LogisticRegression\n",
    "from sklearn.decomposition import PCA\n",
    "from sklearn.metrics import classification_report\n",
    "import matplotlib.pyplot as plt\n",
    "\n",
    "import numpy as np\n",
    "import pandas as pd\n"
   ]
  },
  {
   "cell_type": "markdown",
   "metadata": {},
   "source": [
    "## **Load Data**"
   ]
  },
  {
   "cell_type": "code",
   "execution_count": 18,
   "metadata": {},
   "outputs": [
    {
     "name": "stdout",
     "output_type": "stream",
     "text": [
      "Train Data Shape: (267, 138672) samples\n",
      "Test Data Shape: (173, 138672) samples\n"
     ]
    }
   ],
   "source": [
    "def load_data(file_path):\n",
    "    with open(file_path, 'r') as file:\n",
    "        data = file.readlines()\n",
    "\n",
    "    # prprocess the data\n",
    "    \"\"\"\n",
    "        for row in sample.strip()[1:-1].split(';') - remove [] and split at ; \n",
    "        list(map(float, row.strip().split())) - For each row d in step before, splits row into individual elements. It then maps each element as a float using the float()\n",
    "    \"\"\"\n",
    "    processed_data = [\n",
    "        np.array([\n",
    "            list(map(float, row.strip().split())) for row in sample.strip()[1:-1].split(';')\n",
    "        ]) for sample in data\n",
    "    ]\n",
    "\n",
    "    # flatten the matrix in preprocessed data to fit into pca modell\n",
    "    processed_data = np.array([matrix.flatten() for matrix in processed_data])\n",
    "\n",
    "    return processed_data\n",
    "\n",
    "def load_labels(file_path):\n",
    "    with open(file_path, 'r') as file:\n",
    "        labels = file.readlines()\n",
    "\n",
    "    labels = np.array([int(val) for line in labels for val in line.strip()[1:-1].split() if val.isdigit()])\n",
    "    return labels\n",
    "\n",
    "# Beispielaufruf der Funktionen mit Reshape\n",
    "train_data_file = 'pems+sf/PEMS_train'\n",
    "test_data_file = 'pems+sf/PEMS_test'\n",
    "train_labels_file = 'pems+sf/PEMS_trainlabels'\n",
    "test_labels_file = 'pems+sf/PEMS_testlabels'\n",
    "\n",
    "train_data = load_data(train_data_file)\n",
    "test_data = load_data(test_data_file)\n",
    "train_labels = load_labels(train_labels_file)\n",
    "test_labels = load_labels(test_labels_file)\n",
    "\n",
    "print(f\"Train Data Shape: {train_data.shape} samples\")\n",
    "print(f\"Test Data Shape: {test_data.shape} samples\")"
   ]
  },
  {
   "cell_type": "markdown",
   "metadata": {},
   "source": [
    "## **Exploreation**\n",
    "\n",
    "- Each matrix describes the different occupancies rates (963 lines, one for each station/detector) sampled every 10 minutes during the day (144 columns)\n",
    "- 963 sensors with 144 values = 138672 columns"
   ]
  },
  {
   "cell_type": "code",
   "execution_count": 59,
   "metadata": {},
   "outputs": [
    {
     "data": {
      "image/png": "[encoded data removed]",
      "text/plain": [
       "<Figure size 800x600 with 1 Axes>"
      ]
     },
     "metadata": {},
     "output_type": "display_data"
    }
   ],
   "source": [
    "df = pd.DataFrame(train_data)\n",
    "df['Average'] = df.mean(axis=1)\n",
    "df['Weekday'] = train_labels\n",
    "df['Weekday'] = df['Weekday'].apply(lambda x: 7 if x == 1 else x - 1)\n",
    "\n",
    "weekday_average = df.groupby('Weekday').mean()\n",
    "weekday_average[\"Average\"]\n",
    "\n",
    "plt.figure(figsize=(8, 6))\n",
    "plt.bar(weekday_average.index, weekday_average['Average'], color='skyblue')\n",
    "plt.xlabel('Weekday')\n",
    "plt.ylabel('Average')\n",
    "plt.title('Average by Weekday')\n",
    "plt.xticks(range(1, 8), ['Mon', 'Tue', 'Wed', 'Thu', 'Fri', 'Sat', 'Sun'])  \n",
    "plt.grid(axis='y') \n",
    "plt.show()"
   ]
  },
  {
   "cell_type": "markdown",
   "metadata": {},
   "source": [
    "## **PCA**"
   ]
  },
  {
   "cell_type": "code",
   "execution_count": 19,
   "metadata": {},
   "outputs": [
    {
     "name": "stdout",
     "output_type": "stream",
     "text": [
      "Train Data Shape after PCA: (267, 25)\n",
      "Test Data Shape after PCA: (173, 25)\n"
     ]
    }
   ],
   "source": [
    "# number of components in pca\n",
    "n_components = 25\n",
    "\n",
    "# fit pca - train and test data with same pca (fit_transform() -> transform())\n",
    "pca = PCA(n_components=n_components)\n",
    "\n",
    "train_data_pca = pca.fit_transform(train_data)\n",
    "test_data_pca = pca.transform(test_data)\n",
    "\n",
    "# dimensions after transform\n",
    "print(f\"Train Data Shape after PCA: {train_data_pca.shape}\")\n",
    "print(f\"Test Data Shape after PCA: {test_data_pca.shape}\")"
   ]
  },
  {
   "cell_type": "markdown",
   "metadata": {},
   "source": [
    "## **Log. Regression**"
   ]
  },
  {
   "cell_type": "code",
   "execution_count": 20,
   "metadata": {},
   "outputs": [
    {
     "name": "stdout",
     "output_type": "stream",
     "text": [
      "Classification Report:\n",
      "              precision    recall  f1-score   support\n",
      "\n",
      "           1       1.00      1.00      1.00        30\n",
      "           2       0.86      0.76      0.81        25\n",
      "           3       0.67      0.77      0.71        26\n",
      "           4       0.57      0.52      0.55        23\n",
      "           5       0.82      0.82      0.82        22\n",
      "           6       0.89      0.93      0.91        27\n",
      "           7       1.00      1.00      1.00        20\n",
      "\n",
      "    accuracy                           0.83       173\n",
      "   macro avg       0.83      0.83      0.83       173\n",
      "weighted avg       0.83      0.83      0.83       173\n",
      "\n"
     ]
    }
   ],
   "source": [
    "logreg = LogisticRegression(max_iter=1000)\n",
    "\n",
    "logreg.fit(train_data_pca, train_labels)\n",
    "\n",
    "\n",
    "pred_logreg = logreg.predict(test_data_pca)\n",
    "\n",
    "classification_rep = classification_report(test_labels, pred_logreg)\n",
    "print(\"Classification Report:\")\n",
    "print(classification_rep)"
   ]
  }
 ],
 "metadata": {
  "kernelspec": {
   "display_name": "Python 3",
   "language": "python",
   "name": "python3"
  },
  "language_info": {
   "codemirror_mode": {
    "name": "ipython",
    "version": 3
   },
   "file_extension": ".py",
   "mimetype": "text/x-python",
   "name": "python",
   "nbconvert_exporter": "python",
   "pygments_lexer": "ipython3",
   "version": "3.11.4"
  }
 },
 "nbformat": 4,
 "nbformat_minor": 2
}
